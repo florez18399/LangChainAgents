{
  "nbformat": 4,
  "nbformat_minor": 0,
  "metadata": {
    "colab": {
      "provenance": []
    },
    "kernelspec": {
      "name": "python3",
      "display_name": "Python 3"
    },
    "language_info": {
      "name": "python"
    }
  },
  "cells": [
    {
      "cell_type": "markdown",
      "source": [
        "# **PROYECTO IA**\n",
        "## MODELO MULTIAGENTE PARA LA CREACIÓN DE PROYECTOS DE SOFTWARE\n",
        "\n"
      ],
      "metadata": {
        "id": "QMYW-fjmAcAr"
      }
    },
    {
      "cell_type": "markdown",
      "source": [
        "### Dependencias"
      ],
      "metadata": {
        "id": "2ZkP6jExA_LK"
      }
    },
    {
      "cell_type": "markdown",
      "source": [],
      "metadata": {
        "id": "XLLLWXKx2foj"
      }
    },
    {
      "cell_type": "code",
      "execution_count": null,
      "metadata": {
        "colab": {
          "base_uri": "https://localhost:8080/"
        },
        "collapsed": true,
        "id": "BTav7OI3AVy2",
        "outputId": "77669b73-f940-46de-c01f-517124a86b88"
      },
      "outputs": [
        {
          "output_type": "stream",
          "name": "stdout",
          "text": [
            "\u001b[2K     \u001b[90m━━━━━━━━━━━━━━━━━━━━━━━━━━━━━━━━━━━━━━━━\u001b[0m \u001b[32m43.7/43.7 kB\u001b[0m \u001b[31m2.2 MB/s\u001b[0m eta \u001b[36m0:00:00\u001b[0m\n",
            "\u001b[2K   \u001b[90m━━━━━━━━━━━━━━━━━━━━━━━━━━━━━━━━━━━━━━━━\u001b[0m \u001b[32m720.5/720.5 kB\u001b[0m \u001b[31m31.3 MB/s\u001b[0m eta \u001b[36m0:00:00\u001b[0m\n",
            "\u001b[2K   \u001b[90m━━━━━━━━━━━━━━━━━━━━━━━━━━━━━━━━━━━━━━━━\u001b[0m \u001b[32m154.9/154.9 kB\u001b[0m \u001b[31m11.0 MB/s\u001b[0m eta \u001b[36m0:00:00\u001b[0m\n",
            "\u001b[2K   \u001b[90m━━━━━━━━━━━━━━━━━━━━━━━━━━━━━━━━━━━━━━━━\u001b[0m \u001b[32m63.4/63.4 kB\u001b[0m \u001b[31m4.7 MB/s\u001b[0m eta \u001b[36m0:00:00\u001b[0m\n",
            "\u001b[2K   \u001b[90m━━━━━━━━━━━━━━━━━━━━━━━━━━━━━━━━━━━━━━━━\u001b[0m \u001b[32m2.5/2.5 MB\u001b[0m \u001b[31m46.2 MB/s\u001b[0m eta \u001b[36m0:00:00\u001b[0m\n",
            "\u001b[2K   \u001b[90m━━━━━━━━━━━━━━━━━━━━━━━━━━━━━━━━━━━━━━━━\u001b[0m \u001b[32m438.5/438.5 kB\u001b[0m \u001b[31m28.1 MB/s\u001b[0m eta \u001b[36m0:00:00\u001b[0m\n",
            "\u001b[2K   \u001b[90m━━━━━━━━━━━━━━━━━━━━━━━━━━━━━━━━━━━━━━━━\u001b[0m \u001b[32m44.2/44.2 kB\u001b[0m \u001b[31m3.0 MB/s\u001b[0m eta \u001b[36m0:00:00\u001b[0m\n",
            "\u001b[2K   \u001b[90m━━━━━━━━━━━━━━━━━━━━━━━━━━━━━━━━━━━━━━━━\u001b[0m \u001b[32m50.0/50.0 kB\u001b[0m \u001b[31m3.3 MB/s\u001b[0m eta \u001b[36m0:00:00\u001b[0m\n",
            "\u001b[2K   \u001b[90m━━━━━━━━━━━━━━━━━━━━━━━━━━━━━━━━━━━━━━━━\u001b[0m \u001b[32m44.4/44.4 kB\u001b[0m \u001b[31m2.9 MB/s\u001b[0m eta \u001b[36m0:00:00\u001b[0m\n",
            "\u001b[2K   \u001b[90m━━━━━━━━━━━━━━━━━━━━━━━━━━━━━━━━━━━━━━━━\u001b[0m \u001b[32m50.9/50.9 kB\u001b[0m \u001b[31m3.7 MB/s\u001b[0m eta \u001b[36m0:00:00\u001b[0m\n",
            "\u001b[2K   \u001b[90m━━━━━━━━━━━━━━━━━━━━━━━━━━━━━━━━━━━━━━━━\u001b[0m \u001b[32m216.5/216.5 kB\u001b[0m \u001b[31m13.8 MB/s\u001b[0m eta \u001b[36m0:00:00\u001b[0m\n",
            "\u001b[?25hCollecting faiss-cpu\n",
            "  Downloading faiss_cpu-1.11.0-cp311-cp311-manylinux_2_28_x86_64.whl.metadata (4.8 kB)\n",
            "Requirement already satisfied: numpy<3.0,>=1.25.0 in /usr/local/lib/python3.11/dist-packages (from faiss-cpu) (2.0.2)\n",
            "Requirement already satisfied: packaging in /usr/local/lib/python3.11/dist-packages (from faiss-cpu) (24.2)\n",
            "Downloading faiss_cpu-1.11.0-cp311-cp311-manylinux_2_28_x86_64.whl (31.3 MB)\n",
            "\u001b[2K   \u001b[90m━━━━━━━━━━━━━━━━━━━━━━━━━━━━━━━━━━━━━━━━\u001b[0m \u001b[32m31.3/31.3 MB\u001b[0m \u001b[31m21.0 MB/s\u001b[0m eta \u001b[36m0:00:00\u001b[0m\n",
            "\u001b[?25hInstalling collected packages: faiss-cpu\n",
            "Successfully installed faiss-cpu-1.11.0\n"
          ]
        }
      ],
      "source": [
        "!pip install --upgrade -qU langchain openai langgraph langchain-openai langchain_community\n",
        "!pip install faiss-cpu"
      ]
    },
    {
      "cell_type": "markdown",
      "source": [
        "# Algunos imports"
      ],
      "metadata": {
        "id": "5o4XOIlQzClH"
      }
    },
    {
      "cell_type": "code",
      "source": [
        "from typing_extensions import TypedDict\n",
        "from openai import OpenAI\n",
        "\n",
        "from langgraph.graph import END, StateGraph, START\n",
        "from langgraph.checkpoint.memory import MemorySaver\n",
        "from langgraph.types import interrupt, Command\n",
        "\n",
        "from langchain_core.prompts import ChatPromptTemplate\n",
        "from langchain_openai.chat_models import ChatOpenAI\n",
        "from langchain.chains import create_retrieval_chain\n",
        "from langchain.chains.combine_documents import create_stuff_documents_chain\n",
        "\n",
        "from langchain.text_splitter import RecursiveCharacterTextSplitter\n",
        "from langchain_openai import OpenAIEmbeddings\n",
        "from langchain_community.vectorstores import FAISS\n",
        "\n",
        "from IPython.display import Image, display\n",
        "\n",
        "import json\n",
        "import uuid\n",
        "import os\n",
        "import requests\n",
        "import base64\n",
        "import re"
      ],
      "metadata": {
        "id": "lMxoV7yMzECu"
      },
      "execution_count": null,
      "outputs": []
    },
    {
      "cell_type": "markdown",
      "source": [
        "# Alguna funciones útiles"
      ],
      "metadata": {
        "id": "wLaR4qdM9FHe"
      }
    },
    {
      "cell_type": "code",
      "source": [
        "def crear_archivo(contenido: str, extension: str, nombre: str):\n",
        "    \"\"\"\n",
        "    Crea un archivo en el directorio especificado con el contenido y extensión indicados.\n",
        "\n",
        "    :param contenido: El contenido que se guardará en el archivo.\n",
        "    :param extension: La extensión del archivo (sin el punto, por ejemplo, 'txt', 'csv').\n",
        "    :param directorio: El directorio donde se guardará el archivo.\n",
        "    :param nombre: El nombre del archivo (sin extensión).\n",
        "    :return: La ruta completa del archivo creado.\n",
        "    \"\"\"\n",
        "\n",
        "    # Construir la ruta completa del archivo\n",
        "    archivo_ruta = \"/content/\" + nombre + extension\n",
        "\n",
        "    # Crear el archivo y escribir el contenido\n",
        "    with open(archivo_ruta, \"w\", encoding=\"utf-8\") as archivo:\n",
        "        archivo.write(contenido)\n",
        "\n",
        "    return archivo_ruta"
      ],
      "metadata": {
        "id": "6FyE8fby9KHf"
      },
      "execution_count": null,
      "outputs": []
    },
    {
      "cell_type": "code",
      "source": [
        "def save_diagram(graph: str, name:str):\n",
        "    \"\"\"\n",
        "    Muestra un diagrama Mermaid a partir del código y lo guarda como archivo PNG en la ruta especificada.\n",
        "\n",
        "    :param graph: Código del diagrama Mermaid.\n",
        "    :param save_path: Ruta completa (incluyendo el nombre del archivo) donde se guardará la imagen PNG.\n",
        "    \"\"\"\n",
        "    # Codificar el gráfico en base64\n",
        "    graph_bytes = graph.encode(\"utf8\")\n",
        "    base64_bytes = base64.urlsafe_b64encode(graph_bytes)\n",
        "    base64_string = base64_bytes.decode(\"ascii\")\n",
        "\n",
        "    # Generar la URL de la imagen\n",
        "    img_url = \"https://mermaid.ink/img/\" + base64_string\n",
        "\n",
        "      # Construir la ruta completa del archivo\n",
        "    archivo_ruta = os.path.join(\"/content/\", name)\n",
        "\n",
        "    # Descargar y guardar la imagen\n",
        "    response = requests.get(img_url)\n",
        "    if response.status_code == 200:\n",
        "        with open(archivo_ruta, \"wb\") as file:\n",
        "            file.write(response.content)\n",
        "        print(f\"Diagrama guardado en: /content/\")\n",
        "    else:\n",
        "        print(f\"Error al descargar la imagen: {response.status_code}\")"
      ],
      "metadata": {
        "id": "Y6JghptV9Nj_"
      },
      "execution_count": null,
      "outputs": []
    },
    {
      "cell_type": "code",
      "source": [
        "def parse_response_and_create_files(response_text, base_path=\"/content/codigo\"):\n",
        "    # Patrón para identificar archivos y su contenido\n",
        "    file_pattern = r\"# Archivo: (.*?)\\n(.*?)(?=(# Archivo:|$))\"\n",
        "\n",
        "    # Buscar todos los archivos y sus contenidos\n",
        "    matches = re.findall(file_pattern, response_text, re.DOTALL)\n",
        "\n",
        "    if not matches:\n",
        "        print(\"No se encontraron archivos en la respuesta proporcionada.\")\n",
        "        return\n",
        "\n",
        "    # Procesar cada archivo encontrado\n",
        "    for match in matches:\n",
        "        file_path = match[0].strip()  # Ruta del archivo\n",
        "        file_content = match[1].strip()  # Contenido del archivo\n",
        "\n",
        "        # Crear la ruta completa\n",
        "        full_path = os.path.join(base_path, file_path)\n",
        "\n",
        "        # Crear los directorios necesarios\n",
        "        os.makedirs(os.path.dirname(full_path), exist_ok=True)\n",
        "\n",
        "        # Crear el archivo y escribir el contenido\n",
        "        with open(full_path, \"w\", encoding=\"utf-8\") as file:\n",
        "            file.write(file_content)\n",
        "            print(f\"Archivo creado: {full_path}\")"
      ],
      "metadata": {
        "id": "3INeF7QKBg31"
      },
      "execution_count": null,
      "outputs": []
    },
    {
      "cell_type": "markdown",
      "source": [
        "# Configuración de retrieves\n",
        "Este retriever es creado para para procesar texto dividiéndolo en fragmentos,almacenándolo en un vector store y creando un retriever para búsqueda."
      ],
      "metadata": {
        "id": "ur2ZD4f_D-SX"
      }
    },
    {
      "cell_type": "code",
      "source": [
        "class TextToRetriever:\n",
        "    def __init__(self, chunk_size=1000, chunk_overlap=200, api_key=None):\n",
        "        self.chunk_size = chunk_size\n",
        "        self.chunk_overlap = chunk_overlap\n",
        "        self.api_key = api_key\n",
        "        self.text_splitter = RecursiveCharacterTextSplitter(\n",
        "            chunk_size=self.chunk_size,\n",
        "            chunk_overlap=self.chunk_overlap\n",
        "        )\n",
        "        self.vectorstore = None\n",
        "        self.retriever = None\n",
        "\n",
        "    def process_text(self, text):\n",
        "        \"\"\"\n",
        "        Divide el texto en fragmentos, crea un vector store y configura el retriever.\n",
        "\n",
        "        :param text: Texto a procesar.\n",
        "        :return: Instancia del retriever configurado.\n",
        "        \"\"\"\n",
        "        try:\n",
        "            # Dividir el texto en documentos\n",
        "            documents = self.text_splitter.create_documents([text])\n",
        "\n",
        "            # Crear embeddings y vector store\n",
        "            embeddings = OpenAIEmbeddings(api_key=self.api_key)\n",
        "            self.vectorstore = FAISS.from_documents(documents=documents, embedding=embeddings)\n",
        "\n",
        "            # Configurar el retriever\n",
        "            self.retriever = self.vectorstore.as_retriever()\n",
        "            return self.retriever\n",
        "        except Exception as e:\n",
        "            raise RuntimeError(f\"Error al procesar el texto: {e}\")\n",
        "\n",
        "    def get_retriever(self):\n",
        "        \"\"\"\n",
        "        Obtiene el retriever configurado.\n",
        "\n",
        "        :return: Instancia del retriever.\n",
        "        \"\"\"\n",
        "        if not self.retriever:\n",
        "            raise ValueError(\"El retriever no ha sido configurado. Procesa el texto primero.\")\n",
        "        return self.retriever\n"
      ],
      "metadata": {
        "id": "NCW8kd2JD900"
      },
      "execution_count": null,
      "outputs": []
    },
    {
      "cell_type": "markdown",
      "source": [
        "# Clase AgentState\n",
        "Permitirá manejar el estado global del grafo"
      ],
      "metadata": {
        "id": "pC8oz0M4Boto"
      }
    },
    {
      "cell_type": "code",
      "source": [
        "# Definir el estado inicial del grafo\n",
        "class AgentState(TypedDict):\n",
        "    input_data: str\n",
        "    bussiness_domain: str\n",
        "    operation_name: str\n",
        "    design_solution: str\n",
        "    sequence_diagram: str\n",
        "    swagger_spec: str\n",
        "    code_base: str\n",
        "    suggestions: str\n",
        "    feedback_design: str\n",
        "    documentation: str\n",
        "    total_iterations: int"
      ],
      "metadata": {
        "id": "F4yuewQEBnLT"
      },
      "execution_count": null,
      "outputs": []
    },
    {
      "cell_type": "markdown",
      "source": [
        "# AGENTE 1 - Diseño de la solución\n",
        "Encargado de generar un diseño de solución a partir de una descripción de problema proporcionada por el usuario."
      ],
      "metadata": {
        "id": "l32CEzmFnyo9"
      }
    },
    {
      "cell_type": "code",
      "source": [
        "class DesignSolutionAgent:\n",
        "\n",
        "    def __init__(self, client, model=\"gpt-4o-mini\", temperature=0.2, max_tokens=1000):\n",
        "        self.client = client\n",
        "        self.model = model\n",
        "        self.temperature = temperature\n",
        "        self.max_tokens = max_tokens\n",
        "\n",
        "    def generate_design_solution(self, state: AgentState):\n",
        "        \"\"\"\n",
        "        Genera un diseño de solución a partir de una descripción del problema.\n",
        "\n",
        "        :param input_data: Descripción del problema proporcionada por el usuario.\n",
        "        :return: Diccionario con la solución generada.\n",
        "        \"\"\"\n",
        "        prompt = f\"\"\"\n",
        "        Eres un ingeniero de software. Tu tarea es analizar el contexto del problema descrito por el usuario y proponer un diseño de solución.\n",
        "\n",
        "        La descripción del problema incluirá:\n",
        "        - El problema a resolver\n",
        "        - El flujo de negocio que se seguirá\n",
        "        - Las plataformas/tecnologías que se usarán en la solución\n",
        "        - Ejemplos de funcionamiento\n",
        "\n",
        "        Tu respuesta debe estar estructurada en el siguiente formato, usando lenguaje natural claro y ordenado:\n",
        "        Dominio de negocio: **Dominio de negocio**\n",
        "        Nombre de las solución: **Nombre de la solución**:\n",
        "        <Proporciona un nombre claro y descriptivo para la solución.>\n",
        "\n",
        "        **Requerimientos funcionales**:\n",
        "        1. <Requerimiento funcional 1>\n",
        "        2. <Requerimiento funcional 2>\n",
        "        3. ...\n",
        "\n",
        "        **Casos de uso**:\n",
        "        1. **Nombre del caso de uso**: <Título breve>\n",
        "          - **Descripción**: <Explica brevemente qué ocurre en este caso de uso.>\n",
        "          - **Actor**: <Quién interactúa en este caso.>\n",
        "          - **Precondición**: <Condiciones necesarias antes de que comience este caso de uso.>\n",
        "          - **Postcondición**: <Resultado esperado después de que finalice este caso.>\n",
        "\n",
        "        2. **Nombre del caso de uso**: <Título breve>\n",
        "          - **Descripción**: ...\n",
        "\n",
        "        **Tecnologías y dependencias**:\n",
        "        - <Tecnología 1>\n",
        "        - <Tecnología 2>\n",
        "\n",
        "        Mantén la respuesta bien organizada, limpia y sin incluir texto adicional.\n",
        "\n",
        "        Descripción del problema proporcionada por el usuario:\n",
        "        {state['input_data']}\n",
        "        \"\"\"\n",
        "\n",
        "        print(\"---------------------------------Generando diseño de solución...\")\n",
        "        # Llamada a OpenAI\n",
        "        response = self.client.chat.completions.create(\n",
        "            model=self.model,\n",
        "            messages=[\n",
        "                {\"role\": \"system\", \"content\": \"Eres un ingeniero de software.\"},\n",
        "                {\"role\": \"user\", \"content\": prompt}\n",
        "            ],\n",
        "            temperature=self.temperature,\n",
        "            max_tokens=self.max_tokens\n",
        "        )\n",
        "\n",
        "        state['design_solution'] = response.choices[0].message.content\n",
        "        print(\"---------------------------------Diseño de solución generado:\")\n",
        "        crear_archivo(state['design_solution'], \".txt\", \"DisenoSolucion\")\n",
        "\n",
        "        return state"
      ],
      "metadata": {
        "id": "cjhF-AIBAbwh"
      },
      "execution_count": null,
      "outputs": []
    },
    {
      "cell_type": "markdown",
      "source": [
        "# AGENTE 2 - Agente creador de Diagramas\n",
        "Encargado de generar diagramas de secuencia en formato Mermaid a partir del diseño de una solución."
      ],
      "metadata": {
        "id": "p32KdC3Ln672"
      }
    },
    {
      "cell_type": "code",
      "source": [
        "class SequenceDiagramAgent:\n",
        "    def __init__(self, client, model=\"gpt-4o-mini\", temperature=0.2, max_tokens=300):\n",
        "        self.client = client\n",
        "        self.model = model\n",
        "        self.temperature = temperature\n",
        "        self.max_tokens = max_tokens\n",
        "\n",
        "    def generate_sequence_diagram(self, state: AgentState):\n",
        "        \"\"\"\n",
        "        Genera un diagrama de secuencia en formato Mermaid a partir del diseño de la solución.\n",
        "\n",
        "        :param state\n",
        "        :return: Diccionario con el diagrama de secuencia generado o un mensaje de error.\n",
        "        \"\"\"\n",
        "        prompt = f\"\"\"\n",
        "        Eres un asistente especializado en generar diagramas de secuencia en el formato utilizado por la herramienta Mermaid. Tu tarea es crear un diagrama de secuencia a partir de los requerimientos funcionales y casos de uso proporcionados en el diseño de la solución.\n",
        "\n",
        "        A continuación, se te proporciona la descripción del diseño de la solución, que incluye los requerimientos funcionales y los casos de uso. Utiliza esta información para definir las interacciones entre actores y componentes del sistema.\n",
        "\n",
        "        **Reglas**:\n",
        "        1. Crea un diagrama de secuencia en el lenguaje de Mermaid.\n",
        "        2. Usa únicamente el formato Mermaid. No agregues ninguna explicación adicional, texto introductorio o comentario fuera del diagrama.\n",
        "        3. No incluyas encabezados como ```mermaid ni texto adicional que encapsule el diagrama, tampoco comillas como ```.\n",
        "        4. Cada **caso de uso** debe representarse con sus actores y los mensajes intercambiados entre ellos y el sistema.\n",
        "        5. Si hay múltiples casos de uso, usa el mismo diagrama.\n",
        "\n",
        "        **Entrada (Diseño de la solución)**:\n",
        "        {state['design_solution']}\n",
        "        \"\"\"\n",
        "\n",
        "        print(\"-------------------GENERANDO DIAGRAMA DE SECUENCIA----------------------\")\n",
        "        response = self.client.chat.completions.create(\n",
        "            model=self.model,\n",
        "            messages=[\n",
        "                {\"role\": \"system\", \"content\": \"Eres un ingeniero de software. Conoces la herramienta Mermaid y generas el código para un diagrama de secuencia\"},\n",
        "                {\"role\": \"user\", \"content\": prompt}\n",
        "            ],\n",
        "            temperature=self.temperature,\n",
        "            max_tokens=self.max_tokens\n",
        "        )\n",
        "\n",
        "        # Procesar respuesta\n",
        "        state['sequence_diagram'] = response.choices[0].message.content\n",
        "        print(\"-------------------DIAGRAMA DE SECUENCIA GENERADO----------------------\")\n",
        "        save_diagram(state['sequence_diagram'], \"diagrama_secuencia.png\")\n",
        "        return state"
      ],
      "metadata": {
        "id": "_6a7JehroK8y"
      },
      "execution_count": null,
      "outputs": []
    },
    {
      "cell_type": "markdown",
      "source": [
        "# Agente 3 - Corrección del diseño\n",
        "Encargado de aplicar las sugerencias que el usuario dé a las salidas de los agentes de diseño"
      ],
      "metadata": {
        "id": "p5EqVbkjuni9"
      }
    },
    {
      "cell_type": "code",
      "source": [
        "class DesignCorrectionAgent:\n",
        "    def __init__(self, client, model=\"gpt-4o-mini\", temperature=0.2, max_tokens=1000):\n",
        "        self.client = client\n",
        "        self.model = model\n",
        "        self.temperature = temperature\n",
        "        self.max_tokens = max_tokens\n",
        "\n",
        "    def apply_feedback_design(self, state: AgentState):\n",
        "        \"\"\"\n",
        "        Aplica el feedback al diseño y diagrama de secuencia.\n",
        "        \"\"\"\n",
        "        prompt = f\"\"\"\n",
        "        Eres un asistente experto en ingeniería de software.\n",
        "        Tu tarea es modificar un diseño técnico basándote en el feedback del usuario.\n",
        "        Si el feedback es vacío o no tiene que ver con el diseño, debes ignorarlo y dejar el diseño original.\n",
        "\n",
        "        ### **Diseño Original:**\n",
        "        {state['design_solution']}\n",
        "\n",
        "        ### **Diagrama de Secuencia Original:**\n",
        "        {state['sequence_diagram']}\n",
        "\n",
        "        ### **Feedback del Usuario:**\n",
        "        {state['feedback_design']}\n",
        "\n",
        "        ### **Instrucciones:**\n",
        "        1. **Analiza** el `feedback_design` e identifica las correcciones necesarias.\n",
        "        2. **Modifica** el `design_solution` aplicando los cambios.\n",
        "        3. **Ajusta** el `sequence_diagram` para reflejar las correcciones.\n",
        "        4. **Responde en JSON** con el siguiente formato:\n",
        "        \"\n",
        "\n",
        "        {{\n",
        "            \"updated_design_solution\": \"Nuevo diseño corregido...\",\n",
        "            \"updated_sequence_diagram\": \"Nuevo diagrama corregido...\"\n",
        "        }}\n",
        "\n",
        "        No agregues etiquetas de inicio o fin de código en la respuesta. Ni caracteres especiales como comillas dobles o triples.\n",
        "        \"\"\"\n",
        "\n",
        "        print(\"-------------------APLICANDO CORRECCIONES----------------------\")\n",
        "        model_response = self.client.chat.completions.create(\n",
        "            model=self.model,\n",
        "            messages=[\n",
        "                {\"role\": \"system\", \"content\": prompt}\n",
        "            ],\n",
        "            temperature=self.temperature,\n",
        "            max_tokens=self.max_tokens\n",
        "        )\n",
        "\n",
        "        try:\n",
        "            response_data = json.loads(model_response.choices[0].message.content)\n",
        "\n",
        "            state[\"design_solution\"] = response_data[\"updated_design_solution\"]\n",
        "            state[\"sequence_diagram\"] = response_data[\"updated_sequence_diagram\"]\n",
        "            save_diagram(state['sequence_diagram'], \"diagrama_secuencia.png\")\n",
        "            crear_archivo(state['design_solution'], \".txt\", \"DisenoSolucion\")\n",
        "            print(\"-------------------ARCHIVOS CORREGIDOS----------------------\")\n",
        "            return state\n",
        "        except Exception as e:\n",
        "            print(f\"Error procesando la respuesta del modelo: {e}\")\n",
        "            return state"
      ],
      "metadata": {
        "id": "6rEmdzzXusAb"
      },
      "execution_count": null,
      "outputs": []
    },
    {
      "cell_type": "code",
      "source": [
        "def human_feedback_sequence(state: AgentState):\n",
        "    feedback = interrupt(\n",
        "        {\n",
        "            \"message\": \"Por favor revisa el diseño propuesto y los diagramas generador. Type 'ACCEPTED' or provide feedback.\"\n",
        "        }\n",
        "    )\n",
        "    state['feedback_design'] = feedback\n",
        "    return state\n",
        "\n",
        "# Valida si el usuario aceptó el diseño o agregó correcciones\n",
        "def check_feedback(state: AgentState):\n",
        "    print(\"Check feedback: \" + str(state['feedback_design']))\n",
        "    feedback_design_content = state['feedback_design']['suggestions']\n",
        "    print(feedback_design_content)\n",
        "    if not feedback_design_content:\n",
        "        return \"retry\"\n",
        "    if feedback_design_content == \"ACCEPTED\":\n",
        "        return \"continue\"\n",
        "    else:\n",
        "        return \"retry\""
      ],
      "metadata": {
        "id": "u1Io_JzOwEJY"
      },
      "execution_count": null,
      "outputs": []
    },
    {
      "cell_type": "markdown",
      "source": [
        "# Agente - Agente de creación de especificación OpenApi\n",
        "Genera especificaciones OpenAPI 3.0 a partir de un plantilla con el diseño y un diagrama de secuencia en formato Mermaid."
      ],
      "metadata": {
        "id": "cBZux8n0rT1j"
      }
    },
    {
      "cell_type": "code",
      "source": [
        "class SwaggerSpecAgent:\n",
        "    def __init__(self, client, model=\"gpt-4o-mini\", temperature=0, max_tokens=1000):\n",
        "        self.client = client\n",
        "        self.model = model\n",
        "        self.temperature = temperature\n",
        "        self.max_tokens = max_tokens\n",
        "\n",
        "    def generate_swagger_spec(self, state: AgentState):\n",
        "        \"\"\"\n",
        "        Genera una especificación OpenAPI 3.0 en formato YAML a partir de una plantilla de diseño y de un diagrama de secuencia.\n",
        "\n",
        "        :param state\n",
        "        :return: Diccionario con la especificación OpenAPI 3.0 generada o un mensaje de error.\n",
        "        \"\"\"\n",
        "        prompt = f\"\"\"\n",
        "        Eres un asistente especializado en generación de APIs en formato OpenAPI 3.0 y en el modelo ApiFirst.\n",
        "        Tu tarea es analizar una plantilla con el diseño de una solución y un diagrama de secuencia en formato Mermaid y, a partir de él, generar una especificación OpenAPI 3.0.\n",
        "\n",
        "        **Instrucciones**:\n",
        "        1. Analiza detenidamente el diagrama y la plantilla.\n",
        "        2. Identifica los actores (clientes o sistemas externos) y las interacciones (endpoints) descritas en el flujo.\n",
        "        3. Genera una especificación OpenAPI 3.0 en formato YAML que incluya:\n",
        "            - Información general de la API.\n",
        "            - Las rutas (endpoints) necesarias.\n",
        "            - Métodos HTTP adecuados (GET, POST, etc.).\n",
        "            - Parámetros requeridos (query, path o body).\n",
        "            - Ejemplos de `request` y `response`.\n",
        "            - Códigos de estado HTTP más relevantes (como 200, 400 y 500).\n",
        "\n",
        "        4. **Reglas**:\n",
        "            - La salida debe ser una especificación OpenAPI 3.0 en formato YAML puro.\n",
        "            - No agregues texto introductorio, comentarios adicionales o explicaciones fuera del YAML.\n",
        "            - Asegúrate de mantener el formato correcto para OpenAPI 3.0.\n",
        "\n",
        "        **Entrada (Diagrama de secuencia en Mermaid)**:\n",
        "        {state['sequence_diagram']}\n",
        "\n",
        "        **Entrada (Plantilla de diseño)**:\n",
        "        {state['design_solution']}\n",
        "\n",
        "        Genera únicamente la especificación OpenAPI 3.0 en formato YAML.\n",
        "        No incluyas caracteres de entrada ni salida, como ``` o comillas.\n",
        "        \"\"\"\n",
        "\n",
        "        print(\"-------------------GENERANDO ESPECIFICACIÓN OPENAPI 3.0----------------------\")\n",
        "        # Llamada a OpenAI\n",
        "        response = self.client.chat.completions.create(\n",
        "            model=self.model,\n",
        "            messages=[\n",
        "                {\"role\": \"system\", \"content\": \"\"},\n",
        "                {\"role\": \"user\", \"content\": prompt}\n",
        "            ],\n",
        "            temperature=self.temperature,\n",
        "            max_tokens=self.max_tokens\n",
        "        )\n",
        "\n",
        "        # Procesar respuesta\n",
        "        state['swagger_spec'] = response.choices[0].message.content.strip()\n",
        "        print(\"-------------------ESPECIFICACIÓN OPENAPI 3.0 GENERADA----------------------\")\n",
        "        crear_archivo(state['swagger_spec'], \".yaml\", \"SwaggerSpec\")\n",
        "        return state"
      ],
      "metadata": {
        "id": "wZ-QGb-IrR7s"
      },
      "execution_count": null,
      "outputs": []
    },
    {
      "cell_type": "markdown",
      "source": [
        "# AGENTES DE CREACIÓN DE CÓDIGO"
      ],
      "metadata": {
        "id": "0Vb_xfM_toJ5"
      }
    },
    {
      "cell_type": "code",
      "source": [
        "class CodeGeneratorAgent:\n",
        "    def __init__(self, client, model=\"gpt-4o-mini\", temperature=0, max_tokens=1000):\n",
        "        \"\"\"\n",
        "        Inicializa el generador de código con el cliente enviado.\n",
        "\n",
        "        :param\n",
        "        \"\"\"\n",
        "        self.client = client\n",
        "        self.model = model\n",
        "        self.temperature = temperature\n",
        "        self.max_tokens = max_tokens\n",
        "\n",
        "    def generate_code(self, state: AgentState):\n",
        "        \"\"\"\n",
        "        Genera el código base del proyecto según la especificación OpenAPI proporcionada.\n",
        "\n",
        "        :param swagger_spec: Especificación OpenAPI 3.0 en formato YAML.\n",
        "        :return: Diccionario con el estado que incluye el código base generado.\n",
        "        \"\"\"\n",
        "        prompt = f\"\"\"\n",
        "        Eres un asistente experto en desarrollo de software y generación de código.\n",
        "        Tu tarea es analizar una especificación y plantilla de diseño con casos de uso, descripción del problema y tecnologías y una especificación swagger OpenAPI 3.0 proporcionada y,\n",
        "        a partir de esas entradas generar la estructura básica del proyecto según la tecnología indicada por el usuario.\n",
        "\n",
        "        **Requisitos de la salida**:\n",
        "        1. Genera la estructura básica del proyecto.\n",
        "        2. Las clases deben estar correctamente estructuradas, siguiendo los principios **SOLID** y **DRY**.\n",
        "        3. La salida debe incluir únicamente el código fuente con el lenguaje indicado y comentado para facilitar su comprensión.\n",
        "        4. El formato de la respuesta debe ser de la siguiente manera:\n",
        "            # Archivo: directorio/nombrearchivo\n",
        "            package package.name;\n",
        "            // Clase de ejemplo\n",
        "          Ten en cuenta el nombre del archivo lleve el directorio al que pertenece.\n",
        "        5. Ten en cuenta que archivos generales de configuración y dependencias a agregar al proyecto.\n",
        "\n",
        "        **Tecnología solicitada**: Java Spring Boot - Gradle 7.0\n",
        "\n",
        "        **Reglas**:\n",
        "        - No agregues explicaciones ni comentarios fuera del código.\n",
        "        - Genera únicamente el código fuente y la estructura básica del proyecto.\n",
        "\n",
        "        Especificación swagger: {state['swagger_spec']}\n",
        "\n",
        "        Plantilla de diseño: {state['design_solution']}\n",
        "        \"\"\"\n",
        "        print(\"-------------------GENERANDO CÓDIGO----------------------\")\n",
        "\n",
        "        messages = [\n",
        "            {\"role\": \"system\", \"content\": \"Eres un desarrollador experto en Java y el framework Spring\"},\n",
        "            {\"role\": \"user\", \"content\": prompt}\n",
        "        ]\n",
        "\n",
        "        response = self.client.chat.completions.create(\n",
        "            model='gpt-4o-mini',\n",
        "            messages=messages,\n",
        "            max_tokens=2000\n",
        "        )\n",
        "        code_base = response.choices[0].message.content\n",
        "        print(\"-------------------CÓDIGO GENERADO----------------------\")\n",
        "\n",
        "        state['code_base'] = code_base\n",
        "        return state\n"
      ],
      "metadata": {
        "id": "8wYxxp74tpfR"
      },
      "execution_count": null,
      "outputs": []
    },
    {
      "cell_type": "markdown",
      "source": [
        "# AGENTE DE VALIDACIÓN DE CÓDIGO\n",
        "Realiza una revisión de código basado en lineamientos específicos de desarrollo. Si encuentra errores da unas sugerencias"
      ],
      "metadata": {
        "id": "aXQ2We6wvZM2"
      }
    },
    {
      "cell_type": "code",
      "source": [
        "class CodeReviewAgent:\n",
        "    def __init__(self, api_key, model=\"gpt-4.1-2025-04-14\", max_tokens=1000):\n",
        "        self.api_key = api_key\n",
        "        self.model = model\n",
        "        self.max_tokens = max_tokens\n",
        "        self.llm = ChatOpenAI(api_key=api_key, model=model, max_tokens=max_tokens)\n",
        "        self.initialize_retriever()\n",
        "\n",
        "    def create_prompt(self):\n",
        "        \"\"\"\n",
        "        Crea el prompt del sistema para la revisión de código.\n",
        "\n",
        "        :param context: Estándares específicos para la validación del código.\n",
        "        :return: Instancia de ChatPromptTemplate configurada.\n",
        "        \"\"\"\n",
        "        system_prompt = (\n",
        "            \"Eres un asistente especializado en los lineamientos de desarrollo de una compañía. Tu función será realizar la revisión de código.\"\n",
        "            \"Te especializas en la estructura de los proyectos y su documentación. Te basas únicamente en los estándares que te serán entregados.\"\n",
        "            \"Validarás detalladamente unos archivos que serán un texto con este formato: \"\n",
        "            \"\"\" # Archivo: directorio/nombre_archivo\n",
        "                package nombrepaquete;\n",
        "                // Clase de ejemplo\n",
        "            \"\"\"\n",
        "            \"Es decir el nombre del archivo (definiendo el directorio al que pertenece) y su contenido.\"\n",
        "            \"Revisarás detalladamente cada uno de los archivos. Debes ser bastante estricto en cuanto a nombramientos, estructura y contenido de los archivos.\"\n",
        "            \"Si encuentras errores, los listarás y dirás su corrección, de esta manera: 'Error: - Correcciones:' No agregues más comentarios.\"\n",
        "            \"\\n\"\n",
        "            \"Lineamientos de desarrollo: {context}\"\n",
        "        )\n",
        "        return ChatPromptTemplate.from_messages(\n",
        "            [\n",
        "                (\"system\", system_prompt),\n",
        "                (\"human\", \"{input}\"),\n",
        "            ]\n",
        "        )\n",
        "\n",
        "    def review_code(self, state: AgentState):\n",
        "        \"\"\"\n",
        "        Procesa la revisión de código de acuerdo al estado actual.\n",
        "\n",
        "        :param state: Diccionario con el estado actual que incluye la base de código.\n",
        "        :return: Estado actualizado con sugerencias y conteo de iteraciones.\n",
        "        \"\"\"\n",
        "        print(\"-------------------VALIDANDO CODIGO-----------------\")\n",
        "\n",
        "        # Crear el prompt basado en los estándares\n",
        "        prompt = self.create_prompt()\n",
        "\n",
        "        # Crear cadenas necesarias para el proceso\n",
        "        question_answer_chain = create_stuff_documents_chain(self.llm, prompt)\n",
        "        rag_chain = create_retrieval_chain(self.retriever, question_answer_chain)\n",
        "\n",
        "        # Incrementar iteraciones y generar sugerencias\n",
        "        state['total_iterations'] = state.get('total_iterations', 0) + 1\n",
        "        state['suggestions'] = rag_chain.invoke({\"input\": state['code_base']})['answer']\n",
        "\n",
        "        print(\"-------------------SUGERENCIAS----------------------\")\n",
        "        print(state['suggestions'])\n",
        "        return state\n",
        "\n",
        "\n",
        "    def initialize_retriever(self):\n",
        "        lineamientos = \"/content/EstructuraMSComunes.txt\"\n",
        "        with open(lineamientos, \"r\") as f:\n",
        "            documentation_content = f.read()\n",
        "        textToRetriever = TextToRetriever(api_key=self.api_key)\n",
        "        textToRetriever.process_text(documentation_content)\n",
        "        self.retriever = textToRetriever.get_retriever()\n",
        "\n"
      ],
      "metadata": {
        "id": "6G3LxSpBzAcA"
      },
      "execution_count": null,
      "outputs": []
    },
    {
      "cell_type": "markdown",
      "source": [
        "# AGENTE DE REFACTORING DE CÓDIGO(APLICACIÓN DE LINEAMIENTOS)\n",
        "Refactoriza el código aplicando las sugerencias generadas por el agente anterior"
      ],
      "metadata": {
        "id": "UFuaxeg67Uep"
      }
    },
    {
      "cell_type": "code",
      "source": [
        "class CodeRefactorAgent:\n",
        "    def __init__(self, client, model='gpt-4o-mini'):\n",
        "        self.client = client\n",
        "        self.model = model\n",
        "\n",
        "    def refactor_code(self, state: AgentState):\n",
        "        \"\"\"\n",
        "        Realiza la refactorización de código basada en las sugerencias proporcionadas.\n",
        "\n",
        "        :param state: Diccionario que contiene las sugerencias y la base de código.\n",
        "        :return: Diccionario actualizado con la base de código refactorizada.\n",
        "        \"\"\"\n",
        "        prompt = f\"\"\"\n",
        "          Eres un asistente experto en desarrollo de software y refactoring de código.\n",
        "\n",
        "          **Entrada**:\n",
        "          - Recibirás un texto que contiene archivos con las clases de un proyecto en este formato:\n",
        "              # Archivo: directorio/nombre_archivo\n",
        "              package nombrepaquete;\n",
        "              // Clase de ejemplo\n",
        "              ...\n",
        "            Ten en cuenta que el nombre del archivo lleva el directorio al que pertenece.\n",
        "\n",
        "          **Tecnología solicitada**: Java Spring Boot\n",
        "\n",
        "          **Reglas**:\n",
        "          - Tendrás en cuenta las siguientes sugerencias: {state['suggestions']}\n",
        "          - No agregues explicaciones ni comentarios fuera del código.\n",
        "          - Genera únicamente el código fuente y la estructura básica del proyecto.\n",
        "          - El formato de la respuesta debe ser de la siguiente manera:\n",
        "            # Archivo: directorio/nombrearchivo\n",
        "            package package.name;\n",
        "            // Clase de ejemplo\n",
        "            Ten en cuenta el nombre del archivo lleve el directorio al que pertenece.\n",
        "\n",
        "          Código:\n",
        "          {state['code_base']}\n",
        "        \"\"\"\n",
        "        messages = [\n",
        "            {\"role\": \"system\", \"content\": \"Eres un desarrollador experto en Java y el framework Spring\"},\n",
        "            {\"role\": \"user\", \"content\": prompt}\n",
        "        ]\n",
        "\n",
        "        try:\n",
        "            print(\"-------------------REFACTORIZANDO CÓDIGO----------------------\")\n",
        "            response = self.client.chat.completions.create(\n",
        "                model=self.model,\n",
        "                messages=messages,\n",
        "                max_tokens=2000\n",
        "            )\n",
        "\n",
        "            # Procesar respuesta\n",
        "            state['code_base'] = response.choices[0].message.content\n",
        "            parse_response_and_create_files(state['code_base'])\n",
        "            print(\"-------------------CÓDIGO REFACTORIZADO----------------------\")\n",
        "            return state\n",
        "\n",
        "        except Exception as e:\n",
        "            raise RuntimeError(f\"Error durante la refactorización del código: {e}\")"
      ],
      "metadata": {
        "id": "ubwCtUzB7VlS"
      },
      "execution_count": null,
      "outputs": []
    },
    {
      "cell_type": "markdown",
      "source": [],
      "metadata": {
        "id": "zwpGtmXbRutV"
      }
    },
    {
      "cell_type": "markdown",
      "source": [
        "# Sección nueva"
      ],
      "metadata": {
        "id": "bwjGEAj9rQ89"
      }
    },
    {
      "cell_type": "markdown",
      "source": [
        "# Grafo\n"
      ],
      "metadata": {
        "id": "EJigiMgZDpEp"
      }
    },
    {
      "cell_type": "code",
      "source": [
        "api_key = 'your_api_key'\n",
        "\n",
        "# cliente OpenAI\n",
        "client = OpenAI(api_key= api_key)\n",
        "\n",
        "# id para la ejecucion\n",
        "thread_id = str(uuid.uuid4())\n",
        "\n",
        "# Inicializando checkpointer\n",
        "checkpointer = MemorySaver()\n",
        "\n",
        "# Inicialización de agentes\n",
        "a_design_solution = DesignSolutionAgent(client=client)\n",
        "a_sequence_diagram = SequenceDiagramAgent(client=client)\n",
        "a_design_correction = DesignCorrectionAgent(client=client)\n",
        "a_swagger_spec = SwaggerSpecAgent(client=client)\n",
        "a_code_generator = CodeGeneratorAgent(client=client)\n",
        "a_code_review = CodeReviewAgent(api_key=api_key)\n",
        "a_code_refactor = CodeRefactorAgent(client=client)\n",
        "\n",
        "graph = StateGraph(AgentState)\n",
        "\n",
        "graph.add_node(\"generate_design_solution\", a_design_solution.generate_design_solution)\n",
        "graph.add_node(\"generate_sequence_diagram\", a_sequence_diagram.generate_sequence_diagram)\n",
        "\n",
        "graph.add_node(\"human_feedback_sequence\", human_feedback_sequence)\n",
        "graph.add_node(\"apply_design_correction\", a_design_correction.apply_feedback_design)\n",
        "\n",
        "# API First\n",
        "graph.add_node(\"generate_swagger_spec\", a_swagger_spec.generate_swagger_spec)\n",
        "\n",
        "graph.add_node(\"generate_code\", a_code_generator.generate_code)\n",
        "graph.add_node(\"review_code\", a_code_review.review_code)\n",
        "graph.add_node(\"refactor_code\", a_code_refactor.refactor_code)\n",
        "\n",
        "graph.add_edge(START, \"generate_design_solution\")\n",
        "graph.add_edge(\"generate_design_solution\", \"generate_sequence_diagram\")\n",
        "graph.add_edge(\"generate_sequence_diagram\", \"human_feedback_sequence\")\n",
        "graph.add_conditional_edges(\n",
        "            \"human_feedback_sequence\",\n",
        "            check_feedback,\n",
        "            {\n",
        "                \"continue\": \"generate_swagger_spec\",\n",
        "                \"retry\": \"apply_design_correction\"\n",
        "            }\n",
        "        )\n",
        "graph.add_edge(\"apply_design_correction\", \"generate_sequence_diagram\")\n",
        "graph.add_edge(\"generate_swagger_spec\", \"generate_code\")\n",
        "graph.add_edge(\"generate_code\", \"review_code\")\n",
        "graph.add_edge(\"review_code\", \"refactor_code\")\n",
        "graph.add_edge(\"refactor_code\", END)"
      ],
      "metadata": {
        "colab": {
          "base_uri": "https://localhost:8080/"
        },
        "id": "97sI3C7cBoL_",
        "outputId": "5906db52-cef3-4439-8d67-e3dc16c0e416"
      },
      "execution_count": null,
      "outputs": [
        {
          "output_type": "execute_result",
          "data": {
            "text/plain": [
              "<langgraph.graph.state.StateGraph at 0x79770087a4d0>"
            ]
          },
          "metadata": {},
          "execution_count": 16
        }
      ]
    },
    {
      "cell_type": "code",
      "source": [
        "app = graph.compile(checkpointer=checkpointer)\n",
        "display(Image(app.get_graph().draw_mermaid_png()))"
      ],
      "metadata": {
        "id": "AZaEUUgiDoxH",
        "colab": {
          "base_uri": "https://localhost:8080/",
          "height": 870
        },
        "outputId": "36614523-dfe3-42de-b618-edfd429ce1d0"
      },
      "execution_count": null,
      "outputs": [
        {
          "output_type": "display_data",
          "data": {
            "image/png": "[encoded data removed]",
            "text/plain": [
              "<IPython.core.display.Image object>"
            ]
          },
          "metadata": {}
        }
      ]
    },
    {
      "cell_type": "code",
      "source": [
        "app.invoke({\"input_data\": \"\"\"\"Requerimos un servicio que permita la consulta de la lista de superheroes almacenados en la bd mysql llamada VOUGHTDB.\n",
        "  En la consulta se podrán añadir filtros por nombre, año, y país de nacimiento. La respuesta contendrá por cada superheroe su nombre, descripción, la lista de enemigos que ha vencido, lista de poderes y lista de debilidades\"\"\",\n",
        "            \"total_iterations\": 0},\n",
        "           config={ \"configurable\": {\"thread_id\": thread_id}\n",
        "            })"
      ],
      "metadata": {
        "colab": {
          "base_uri": "https://localhost:8080/"
        },
        "id": "7aCqp_4gEgsD",
        "outputId": "7a6684b7-eaf4-4c94-cca9-787131eec057"
      },
      "execution_count": null,
      "outputs": [
        {
          "output_type": "stream",
          "name": "stdout",
          "text": [
            "---------------------------------Generando diseño de solución...\n",
            "---------------------------------Diseño de solución generado:\n",
            "-------------------GENERANDO DIAGRAMA DE SECUENCIA----------------------\n",
            "-------------------DIAGRAMA DE SECUENCIA GENERADO----------------------\n",
            "Diagrama guardado en: /content/\n"
          ]
        },
        {
          "output_type": "execute_result",
          "data": {
            "text/plain": [
              "{'input_data': '\"Requerimos un servicio que permita la consulta de la lista de superheroes almacenados en la bd mysql llamada VOUGHTDB.\\n  En la consulta se podrán añadir filtros por nombre, año, y país de nacimiento. La respuesta contendrá por cada superheroe su nombre, descripción, la lista de enemigos que ha vencido, lista de poderes y lista de debilidades',\n",
              " 'design_solution': 'Dominio de negocio: **Consulta de Superhéroes**\\n\\nNombre de la solución: **Servicio de Consulta de Superhéroes**:\\n\\n**Requerimientos funcionales**:\\n1. Permitir la consulta de superhéroes almacenados en la base de datos VOUGHTDB.\\n2. Implementar filtros por nombre, año y país de nacimiento.\\n3. Devolver información detallada de cada superhéroe, incluyendo nombre, descripción, lista de enemigos vencidos, lista de poderes y lista de debilidades.\\n\\n**Casos de uso**:\\n1. **Consulta de Superhéroes**: \\n   - **Descripción**: El usuario realiza una consulta para obtener la lista de superhéroes, aplicando filtros opcionales.\\n   - **Actor**: Usuario (puede ser un administrador o un cliente).\\n   - **Precondición**: El usuario debe tener acceso al servicio de consulta y la base de datos debe estar disponible.\\n   - **Postcondición**: Se devuelve una lista de superhéroes que cumplen con los filtros especificados, junto con su información detallada.\\n\\n2. **Filtrado de Superhéroes**: \\n   - **Descripción**: El usuario aplica uno o más filtros (nombre, año, país) para restringir los resultados de la consulta.\\n   - **Actor**: Usuario.\\n   - **Precondición**: El usuario debe haber iniciado una consulta de superhéroes.\\n   - **Postcondición**: Se devuelve una lista filtrada de superhéroes que cumplen con los criterios especificados.\\n\\n**Tecnologías y dependencias**:\\n- MySQL (base de datos)\\n- Node.js (servidor backend)\\n- Express.js (framework para construir la API)',\n",
              " 'sequence_diagram': 'sequenceDiagram\\n    participant Usuario\\n    participant API\\n    participant BaseDeDatos\\n\\n    Usuario->>API: Realiza consulta de superhéroes\\n    API->>BaseDeDatos: Consulta superhéroes (sin filtros)\\n    BaseDeDatos-->>API: Devuelve lista de superhéroes\\n    API-->>Usuario: Devuelve lista de superhéroes\\n\\n    Usuario->>API: Aplica filtros (nombre, año, país)\\n    API->>BaseDeDatos: Consulta superhéroes (con filtros)\\n    BaseDeDatos-->>API: Devuelve lista filtrada de superhéroes\\n    API-->>Usuario: Devuelve lista filtrada de superhéroes',\n",
              " 'total_iterations': 0,\n",
              " '__interrupt__': [Interrupt(value={'message': \"Por favor revisa el diseño propuesto y los diagramas generador. Type 'ACCEPTED' or provide feedback.\"}, resumable=True, ns=['human_feedback_sequence:8eee32ab-2328-99d5-cc64-eb8a16342701'])]}"
            ]
          },
          "metadata": {},
          "execution_count": 18
        }
      ]
    },
    {
      "cell_type": "markdown",
      "source": [
        "# Retomando la secuencia agregando correcciones:"
      ],
      "metadata": {
        "id": "CY4_qwfoypfO"
      }
    },
    {
      "cell_type": "code",
      "source": [
        "app.invoke(\n",
        "      Command(resume={\n",
        "          \"suggestions\": \"1. Cambia las tecnologías. En este caso usaremos Java 17 - Spring, Oracle y gradle. 2. El usuario que quiera consumir la api debe enviar la clave secreta de VOUGHT en los headers. 3. Debe ser un único servicio en el que los filtros puedan enviarse en los parámetros de la solicitud\"\n",
        "      }), config={\"configurable\": {\"thread_id\": thread_id}}\n",
        "  )"
      ],
      "metadata": {
        "colab": {
          "base_uri": "https://localhost:8080/"
        },
        "id": "RnRElsJRyt11",
        "outputId": "e5222a2b-914e-4d59-bb28-c6d95010b263"
      },
      "execution_count": null,
      "outputs": [
        {
          "output_type": "stream",
          "name": "stdout",
          "text": [
            "Check feedback: {'suggestions': '1. Cambia las tecnologías. En este caso usaremos Java 17 - Spring, Oracle y gradle. 2. El usuario que quiera consumir la api debe enviar la clave secreta de VOUGHT en los headers. 3. Debe ser un único servicio en el que los filtros puedan enviarse en los parámetros de la solicitud'}\n",
            "1. Cambia las tecnologías. En este caso usaremos Java 17 - Spring, Oracle y gradle. 2. El usuario que quiera consumir la api debe enviar la clave secreta de VOUGHT en los headers. 3. Debe ser un único servicio en el que los filtros puedan enviarse en los parámetros de la solicitud\n",
            "-------------------APLICANDO CORRECCIONES----------------------\n",
            "Diagrama guardado en: /content/\n",
            "-------------------ARCHIVOS CORREGIDOS----------------------\n",
            "-------------------GENERANDO DIAGRAMA DE SECUENCIA----------------------\n",
            "-------------------DIAGRAMA DE SECUENCIA GENERADO----------------------\n",
            "Diagrama guardado en: /content/\n"
          ]
        },
        {
          "output_type": "execute_result",
          "data": {
            "text/plain": [
              "{'input_data': '\"Requerimos un servicio que permita la consulta de la lista de superheroes almacenados en la bd mysql llamada VOUGHTDB.\\n  En la consulta se podrán añadir filtros por nombre, año, y país de nacimiento. La respuesta contendrá por cada superheroe su nombre, descripción, la lista de enemigos que ha vencido, lista de poderes y lista de debilidades',\n",
              " 'design_solution': 'Dominio de negocio: **Consulta de Superhéroes**\\n\\nNombre de la solución: **Servicio de Consulta de Superhéroes**:\\n\\n**Requerimientos funcionales**:\\n1. Permitir la consulta de superhéroes almacenados en la base de datos VOUGHTDB.\\n2. Implementar filtros por nombre, año y país de nacimiento, que se envían como parámetros en la solicitud.\\n3. Devolver información detallada de cada superhéroe, incluyendo nombre, descripción, lista de enemigos vencidos, lista de poderes y lista de debilidades.\\n4. El usuario debe enviar la clave secreta de VOUGHT en los headers para consumir la API.\\n\\n**Casos de uso**:\\n1. **Consulta de Superhéroes**: \\n   - **Descripción**: El usuario realiza una consulta para obtener la lista de superhéroes, aplicando filtros opcionales.\\n   - **Actor**: Usuario (puede ser un administrador o un cliente).\\n   - **Precondición**: El usuario debe tener acceso al servicio de consulta y la base de datos debe estar disponible.\\n   - **Postcondición**: Se devuelve una lista de superhéroes que cumplen con los filtros especificados, junto con su información detallada.\\n\\n2. **Filtrado de Superhéroes**: \\n   - **Descripción**: El usuario aplica uno o más filtros (nombre, año, país) para restringir los resultados de la consulta.\\n   - **Actor**: Usuario.\\n   - **Precondición**: El usuario debe haber iniciado una consulta de superhéroes.\\n   - **Postcondición**: Se devuelve una lista filtrada de superhéroes que cumplen con los criterios especificados.\\n\\n**Tecnologías y dependencias**:\\n- Java 17 (backend)\\n- Spring (framework para construir la API)\\n- Oracle (base de datos)\\n- Gradle (gestor de dependencias)',\n",
              " 'sequence_diagram': 'sequenceDiagram\\n    participant Usuario\\n    participant API\\n    participant BaseDeDatos\\n\\n    Usuario->>API: Realiza consulta de superhéroes con filtros (nombre, año, país)\\n    API->>BaseDeDatos: Consulta superhéroes con filtros\\n    BaseDeDatos-->>API: Devuelve lista de superhéroes\\n    API-->>Usuario: Devuelve lista de superhéroes con información detallada\\n\\n    Usuario->>API: Aplica filtros adicionales\\n    API->>BaseDeDatos: Consulta superhéroes con filtros actualizados\\n    BaseDeDatos-->>API: Devuelve lista filtrada de superhéroes\\n    API-->>Usuario: Devuelve lista filtrada de superhéroes con información detallada',\n",
              " 'feedback_design': {'suggestions': '1. Cambia las tecnologías. En este caso usaremos Java 17 - Spring, Oracle y gradle. 2. El usuario que quiera consumir la api debe enviar la clave secreta de VOUGHT en los headers. 3. Debe ser un único servicio en el que los filtros puedan enviarse en los parámetros de la solicitud'},\n",
              " 'total_iterations': 0,\n",
              " '__interrupt__': [Interrupt(value={'message': \"Por favor revisa el diseño propuesto y los diagramas generador. Type 'ACCEPTED' or provide feedback.\"}, resumable=True, ns=['human_feedback_sequence:b7079587-f329-035d-16b3-2b10ee11789f'])]}"
            ]
          },
          "metadata": {},
          "execution_count": 19
        }
      ]
    },
    {
      "cell_type": "markdown",
      "source": [
        "# Retomando la secuencia aceptando el diseño:"
      ],
      "metadata": {
        "id": "JBpCFWXpL5DH"
      }
    },
    {
      "cell_type": "code",
      "source": [
        "app.invoke(\n",
        "      Command(resume={\n",
        "          \"suggestions\": \"ACCEPTED\"\n",
        "      }), config={\"configurable\": {\"thread_id\": thread_id}}\n",
        "  )"
      ],
      "metadata": {
        "colab": {
          "base_uri": "https://localhost:8080/"
        },
        "id": "5-gnwdjWLzhU",
        "outputId": "cb76c1ce-9040-4713-b6ce-6832af5cb8b4"
      },
      "execution_count": null,
      "outputs": [
        {
          "output_type": "stream",
          "name": "stdout",
          "text": [
            "Check feedback: {'suggestions': 'ACCEPTED'}\n",
            "ACCEPTED\n",
            "-------------------GENERANDO ESPECIFICACIÓN OPENAPI 3.0----------------------\n",
            "-------------------ESPECIFICACIÓN OPENAPI 3.0 GENERADA----------------------\n",
            "-------------------GENERANDO CÓDIGO----------------------\n",
            "-------------------CÓDIGO GENERADO----------------------\n",
            "-------------------VALIDANDO CODIGO-----------------\n",
            "-------------------SUGERENCIAS----------------------\n",
            "Error:\n",
            "- La estructura y nombramiento de paquetes, clases y archivos no sigue los lineamientos exigidos.\n",
            "- Los nombres de los paquetes y clases no cumplen con las convenciones de infinitivo singular y no están organizados según la funcionalidad (ej: no hay operacion como consultarsuperheroe).\n",
            "- Uso inconsistente/no permitido de mayúsculas en nombres de paquetes.\n",
            "- El paquete principal debe iniciar como com.vought.(dominio)-ms según lineamiento.\n",
            "- Faltan los paquetes commons, config y utils.\n",
            "- Falta organización por operación (ej: consultarsuperheroe/controller, consultarsuperheroe/models, etc)\n",
            "- El controlador no tiene el sufijo obligatorio “Controller” según convención operacion.\n",
            "- No existe separación de interfaz y clase de implementación en servicios.\n",
            "- El modelo Superhero está en un paquete model y no en el subpaquete models ni responde a la nomenclatura de Request/Response.\n",
            "- Faltan clases DTO y Repositories.\n",
            "- Nombres incorrectos y estructura incorrecta de los paquetes de operación.\n",
            "- Falta la estructura recomendada de microservicio según lineamientos.\n",
            "- Los archivos schema.sql y data.sql contienen definiciones incompatibles con Oracle estándar.\n",
            "- Nombres y convenciones en español mezclados con inglés.\n",
            "\n",
            "Correcciones:\n",
            "- Cambiar el grupo/base del paquete a com.vought.superheroes-ms (o el dominio que corresponda).\n",
            "- Crear la estructura de paquetes: commons, config, utils, consultarsuperheroe/controller, consultarsuperheroe/dto, consultarsuperheroe/models, consultarsuperheroe/repository, consultarsuperheroe/services.\n",
            "- Renombrar clases y sus ubicaciones:\n",
            "    - Controlador: ConsultarSuperheroeController (en consultarsuperheroe/controller).\n",
            "    - Interfaz de servicio: ConsultarSuperheroeService (en consultarsuperheroe/services).\n",
            "    - Implementación de servicio: ConsultarSuperheroeServiceImpl (en consultarsuperheroe/services).\n",
            "    - Petición/respuesta: ConsultarSuperheroeRequest, ConsultarSuperheroeResponse (en consultarsuperheroe/models).\n",
            "    - DTOs: en consultarsuperheroe/dto, con el sufijo adecuado y agrupación por origen si aplica.\n",
            "    - Repositorio: PrcConsultarSuperheroeRepository (en consultarsuperheroe/repository, si accede a procedimientos).\n",
            "- Eliminar el uso de nombres como model y service; usar singular e infinitivo en paquetes.\n",
            "- Refactorizar el acceso y definición del modelo de datos conforme a Request/Response.\n",
            "- Ajustar archivos SQL a la sintaxis real de Oracle (no soporta tipos ARRAY como en el ejemplo, y ‘int’ debe ser NUMBER, por ejemplo).\n",
            "- Arreglar sourceCompatibility en build.gradle si corresponde (preferible notación “17” pero consistente con el estándar).\n",
            "- Separar responsabilidades en cada paquete y clase siguiendo estrictamente los lineamientos entregados.\n",
            "-------------------REFACTORIZANDO CÓDIGO----------------------\n",
            "Archivo creado: /content/codigo/build.gradle\n",
            "Archivo creado: /content/codigo/src/main/java/com/vought/superheroes/ServiceApplication.java\n",
            "Archivo creado: /content/codigo/src/main/java/com/vought/superheroes/consultarsuperheroe/controller/ConsultarSuperheroeController.java\n",
            "Archivo creado: /content/codigo/src/main/java/com/vought/superheroes/consultarsuperheroe/models/ConsultarSuperheroeResponse.java\n",
            "Archivo creado: /content/codigo/src/main/java/com/vought/superheroes/consultarsuperheroe/services/ConsultarSuperheroeService.java\n",
            "Archivo creado: /content/codigo/src/main/java/com/vought/superheroes/consultarsuperheroe/services/ConsultarSuperheroeServiceImpl.java\n",
            "Archivo creado: /content/codigo/src/main/java/com/vought/superheroes/consultarsuperheroe/repository/PrcConsultarSuperheroeRepository.java\n",
            "Archivo creado: /content/codigo/src/main/resources/application.properties\n",
            "Archivo creado: /content/codigo/src/main/resources/schema.sql\n",
            "Archivo creado: /content/codigo/src/main/resources/data.sql\n",
            "-------------------CÓDIGO REFACTORIZADO----------------------\n"
          ]
        },
        {
          "output_type": "execute_result",
          "data": {
            "text/plain": [
              "{'input_data': '\"Requerimos un servicio que permita la consulta de la lista de superheroes almacenados en la bd mysql llamada VOUGHTDB.\\n  En la consulta se podrán añadir filtros por nombre, año, y país de nacimiento. La respuesta contendrá por cada superheroe su nombre, descripción, la lista de enemigos que ha vencido, lista de poderes y lista de debilidades',\n",
              " 'design_solution': 'Dominio de negocio: **Consulta de Superhéroes**\\n\\nNombre de la solución: **Servicio de Consulta de Superhéroes**:\\n\\n**Requerimientos funcionales**:\\n1. Permitir la consulta de superhéroes almacenados en la base de datos VOUGHTDB.\\n2. Implementar filtros por nombre, año y país de nacimiento, que se envían como parámetros en la solicitud.\\n3. Devolver información detallada de cada superhéroe, incluyendo nombre, descripción, lista de enemigos vencidos, lista de poderes y lista de debilidades.\\n4. El usuario debe enviar la clave secreta de VOUGHT en los headers para consumir la API.\\n\\n**Casos de uso**:\\n1. **Consulta de Superhéroes**: \\n   - **Descripción**: El usuario realiza una consulta para obtener la lista de superhéroes, aplicando filtros opcionales.\\n   - **Actor**: Usuario (puede ser un administrador o un cliente).\\n   - **Precondición**: El usuario debe tener acceso al servicio de consulta y la base de datos debe estar disponible.\\n   - **Postcondición**: Se devuelve una lista de superhéroes que cumplen con los filtros especificados, junto con su información detallada.\\n\\n2. **Filtrado de Superhéroes**: \\n   - **Descripción**: El usuario aplica uno o más filtros (nombre, año, país) para restringir los resultados de la consulta.\\n   - **Actor**: Usuario.\\n   - **Precondición**: El usuario debe haber iniciado una consulta de superhéroes.\\n   - **Postcondición**: Se devuelve una lista filtrada de superhéroes que cumplen con los criterios especificados.\\n\\n**Tecnologías y dependencias**:\\n- Java 17 (backend)\\n- Spring (framework para construir la API)\\n- Oracle (base de datos)\\n- Gradle (gestor de dependencias)',\n",
              " 'sequence_diagram': 'sequenceDiagram\\n    participant Usuario\\n    participant API\\n    participant BaseDeDatos\\n\\n    Usuario->>API: Realiza consulta de superhéroes con filtros (nombre, año, país)\\n    API->>BaseDeDatos: Consulta superhéroes con filtros\\n    BaseDeDatos-->>API: Devuelve lista de superhéroes\\n    API-->>Usuario: Devuelve lista de superhéroes con información detallada\\n\\n    Usuario->>API: Aplica filtros adicionales\\n    API->>BaseDeDatos: Consulta superhéroes con filtros actualizados\\n    BaseDeDatos-->>API: Devuelve lista filtrada de superhéroes\\n    API-->>Usuario: Devuelve lista filtrada de superhéroes con información detallada',\n",
              " 'swagger_spec': 'openapi: 3.0.0\\ninfo:\\n  title: Servicio de Consulta de Superhéroes\\n  description: API para consultar superhéroes almacenados en la base de datos VOUGHTDB con filtros opcionales.\\n  version: 1.0.0\\nservers:\\n  - url: https://api.ejemplo.com/v1\\npaths:\\n  /superheroes:\\n    get:\\n      summary: Consulta de superhéroes\\n      description: Permite al usuario consultar superhéroes aplicando filtros opcionales.\\n      parameters:\\n        - name: nombre\\n          in: query\\n          required: false\\n          description: Filtrar superhéroes por nombre.\\n          schema:\\n            type: string\\n        - name: año\\n          in: query\\n          required: false\\n          description: Filtrar superhéroes por año de nacimiento.\\n          schema:\\n            type: integer\\n        - name: pais\\n          in: query\\n          required: false\\n          description: Filtrar superhéroes por país de nacimiento.\\n          schema:\\n            type: string\\n        - name: X-Vought-Secret\\n          in: header\\n          required: true\\n          description: Clave secreta de VOUGHT para acceder a la API.\\n          schema:\\n            type: string\\n      responses:\\n        \\'200\\':\\n          description: Lista de superhéroes devuelta con éxito.\\n          content:\\n            application/json:\\n              schema:\\n                type: array\\n                items:\\n                  type: object\\n                  properties:\\n                    nombre:\\n                      type: string\\n                    descripcion:\\n                      type: string\\n                    enemigos_vencidos:\\n                      type: array\\n                      items:\\n                        type: string\\n                    poderes:\\n                      type: array\\n                      items:\\n                        type: string\\n                    debilidades:\\n                      type: array\\n                      items:\\n                        type: string\\n              examples:\\n                example1:\\n                  summary: Ejemplo de respuesta exitosa\\n                  value:\\n                    - nombre: \"Superman\"\\n                      descripcion: \"Héroe de Krypton.\"\\n                      enemigos_vencidos: [\"Lex Luthor\", \"Doomsday\"]\\n                      poderes: [\"Vuelo\", \"Superfuerza\"]\\n                      debilidades: [\"Kryptonita\"]\\n        \\'400\\':\\n          description: Solicitud incorrecta, parámetros no válidos.\\n        \\'500\\':\\n          description: Error interno del servidor.',\n",
              " 'code_base': '```  \\n# Archivo: build.gradle\\nplugins {\\n    id \\'java\\'\\n    id \\'org.springframework.boot\\' version \\'2.6.6\\'\\n    id \\'io.spring.dependency-management\\' version \\'1.0.11.RELEASE\\'\\n}\\n\\ngroup = \\'com.vought.superheroes-ms\\'\\nversion = \\'1.0.0\\'\\nsourceCompatibility = \\'17\\'\\n\\nrepositories {\\n    mavenCentral()\\n}\\n\\ndependencies {\\n    implementation \\'org.springframework.boot:spring-boot-starter-web\\'\\n    implementation \\'org.springframework.boot:spring-boot-starter-data-jpa\\'\\n    runtimeOnly \\'com.oracle.database.jdbc:ojdbc8:19.8.0.0\\'\\n    testImplementation \\'org.springframework.boot:spring-boot-starter-test\\'\\n}\\n\\ntest {\\n    useJUnitPlatform()\\n}\\n\\n# Archivo: src/main/java/com/vought/superheroes/ServiceApplication.java\\npackage com.vought.superheroes;\\n\\nimport org.springframework.boot.SpringApplication;\\nimport org.springframework.boot.autoconfigure.SpringBootApplication;\\n\\n@SpringBootApplication\\npublic class ServiceApplication {\\n    public static void main(String[] args) {\\n        SpringApplication.run(ServiceApplication.class, args);\\n    }\\n}\\n\\n# Archivo: src/main/java/com/vought/superheroes/consultarsuperheroe/controller/ConsultarSuperheroeController.java\\npackage com.vought.superheroes.consultarsuperheroe.controller;\\n\\nimport com.vought.superheroes.consultarsuperheroe.models.ConsultarSuperheroeResponse;\\nimport com.vought.superheroes.consultarsuperheroe.services.ConsultarSuperheroeService;\\nimport org.springframework.web.bind.annotation.GetMapping;\\nimport org.springframework.web.bind.annotation.RequestHeader;\\nimport org.springframework.web.bind.annotation.RequestParam;\\nimport org.springframework.web.bind.annotation.RestController;\\n\\nimport java.util.List;\\n\\n@RestController\\npublic class ConsultarSuperheroeController {\\n    private final ConsultarSuperheroeService consultarSuperheroeService;\\n\\n    public ConsultarSuperheroeController(ConsultarSuperheroeService consultarSuperheroeService) {\\n        this.consultarSuperheroeService = consultarSuperheroeService;\\n    }\\n\\n    @GetMapping(\"/superheroes\")\\n    public List<ConsultarSuperheroeResponse> getSuperheroes(\\n            @RequestParam(required = false) String nombre,\\n            @RequestParam(required = false) Integer año,\\n            @RequestParam(required = false) String pais,\\n            @RequestHeader(\"X-Vought-Secret\") String secret) {\\n        return consultarSuperheroeService.getSuperheroes(nombre, año, pais, secret);\\n    }\\n}\\n\\n# Archivo: src/main/java/com/vought/superheroes/consultarsuperheroe/models/ConsultarSuperheroeResponse.java\\npackage com.vought.superheroes.consultarsuperheroe.models;\\n\\nimport java.util.List;\\n\\npublic class ConsultarSuperheroeResponse {\\n    private String nombre;\\n    private String descripcion;\\n    private List<String> enemigosVencidos;\\n    private List<String> poderes;\\n    private List<String> debilidades;\\n\\n    // Getters y Setters\\n    public String getNombre() { return nombre; }\\n    public void setNombre(String nombre) { this.nombre = nombre; }\\n    public String getDescripcion() { return descripcion; }\\n    public void setDescripcion(String descripcion) { this.descripcion = descripcion; }\\n    public List<String> getEnemigosVencidos() { return enemigosVencidos; }\\n    public void setEnemigosVencidos(List<String> enemigosVencidos) { this.enemigosVencidos = enemigosVencidos; }\\n    public List<String> getPoderes() { return poderes; }\\n    public void setPoderes(List<String> poderes) { this.poderes = poderes; }\\n    public List<String> getDebilidades() { return debilidades; }\\n    public void setDebilidades(List<String> debilidades) { this.debilidades = debilidades; }\\n}\\n\\n# Archivo: src/main/java/com/vought/superheroes/consultarsuperheroe/services/ConsultarSuperheroeService.java\\npackage com.vought.superheroes.consultarsuperheroe.services;\\n\\nimport com.vought.superheroes.consultarsuperheroe.models.ConsultarSuperheroeResponse;\\nimport org.springframework.stereotype.Service;\\n\\nimport java.util.List;\\n\\n@Service\\npublic interface ConsultarSuperheroeService {\\n    List<ConsultarSuperheroeResponse> getSuperheroes(String nombre, Integer año, String pais, String secret);\\n}\\n\\n# Archivo: src/main/java/com/vought/superheroes/consultarsuperheroe/services/ConsultarSuperheroeServiceImpl.java\\npackage com.vought.superheroes.consultarsuperheroe.services;\\n\\nimport com.vought.superheroes.consultarsuperheroe.models.ConsultarSuperheroeResponse;\\nimport org.springframework.stereotype.Service;\\n\\nimport java.util.List;\\n\\n@Service\\npublic class ConsultarSuperheroeServiceImpl implements ConsultarSuperheroeService {\\n    @Override\\n    public List<ConsultarSuperheroeResponse> getSuperheroes(String nombre, Integer año, String pais, String secret) {\\n        // Implementación del acceso a la base de datos y lógica de negocio\\n        return List.of(); // Placeholder\\n    }\\n}\\n\\n# Archivo: src/main/java/com/vought/superheroes/consultarsuperheroe/repository/PrcConsultarSuperheroeRepository.java\\npackage com.vought.superheroes.consultarsuperheroe.repository;\\n\\nimport org.springframework.stereotype.Repository;\\n\\n@Repository\\npublic interface PrcConsultarSuperheroeRepository {\\n    // Métodos para acceder a los datos de superhero\\n}\\n\\n# Archivo: src/main/resources/application.properties\\nspring.datasource.url=jdbc:oracle:thin:@//localhost:1521/VOUGHTDB\\nspring.datasource.username=usuario\\nspring.datasource.password=contraseña\\nspring.jpa.hibernate.ddl-auto=update\\n\\n# Archivo: src/main/resources/schema.sql\\nCREATE TABLE superheroes (\\n    id NUMBER PRIMARY KEY,\\n    nombre VARCHAR2(255),\\n    descripcion VARCHAR2(255),\\n    enemigos_vencidos VARCHAR2(255),\\n    poderes VARCHAR2(255),\\n    debilidades VARCHAR2(255)\\n);\\n\\n# Archivo: src/main/resources/data.sql\\nINSERT INTO superheroes (id, nombre, descripcion, enemigos_vencidos, poderes, debilidades) VALUES\\n(1, \\'Superman\\', \\'Héroe de Krypton.\\', \\'Lex Luthor, Doomsday\\', \\'Vuelo, Superfuerza\\', \\'Kryptonita\\');\\n```  ',\n",
              " 'suggestions': 'Error:\\n- La estructura y nombramiento de paquetes, clases y archivos no sigue los lineamientos exigidos.\\n- Los nombres de los paquetes y clases no cumplen con las convenciones de infinitivo singular y no están organizados según la funcionalidad (ej: no hay operacion como consultarsuperheroe).\\n- Uso inconsistente/no permitido de mayúsculas en nombres de paquetes.\\n- El paquete principal debe iniciar como com.vought.(dominio)-ms según lineamiento.\\n- Faltan los paquetes commons, config y utils.\\n- Falta organización por operación (ej: consultarsuperheroe/controller, consultarsuperheroe/models, etc)\\n- El controlador no tiene el sufijo obligatorio “Controller” según convención operacion.\\n- No existe separación de interfaz y clase de implementación en servicios.\\n- El modelo Superhero está en un paquete model y no en el subpaquete models ni responde a la nomenclatura de Request/Response.\\n- Faltan clases DTO y Repositories.\\n- Nombres incorrectos y estructura incorrecta de los paquetes de operación.\\n- Falta la estructura recomendada de microservicio según lineamientos.\\n- Los archivos schema.sql y data.sql contienen definiciones incompatibles con Oracle estándar.\\n- Nombres y convenciones en español mezclados con inglés.\\n\\nCorrecciones:\\n- Cambiar el grupo/base del paquete a com.vought.superheroes-ms (o el dominio que corresponda).\\n- Crear la estructura de paquetes: commons, config, utils, consultarsuperheroe/controller, consultarsuperheroe/dto, consultarsuperheroe/models, consultarsuperheroe/repository, consultarsuperheroe/services.\\n- Renombrar clases y sus ubicaciones:\\n    - Controlador: ConsultarSuperheroeController (en consultarsuperheroe/controller).\\n    - Interfaz de servicio: ConsultarSuperheroeService (en consultarsuperheroe/services).\\n    - Implementación de servicio: ConsultarSuperheroeServiceImpl (en consultarsuperheroe/services).\\n    - Petición/respuesta: ConsultarSuperheroeRequest, ConsultarSuperheroeResponse (en consultarsuperheroe/models).\\n    - DTOs: en consultarsuperheroe/dto, con el sufijo adecuado y agrupación por origen si aplica.\\n    - Repositorio: PrcConsultarSuperheroeRepository (en consultarsuperheroe/repository, si accede a procedimientos).\\n- Eliminar el uso de nombres como model y service; usar singular e infinitivo en paquetes.\\n- Refactorizar el acceso y definición del modelo de datos conforme a Request/Response.\\n- Ajustar archivos SQL a la sintaxis real de Oracle (no soporta tipos ARRAY como en el ejemplo, y ‘int’ debe ser NUMBER, por ejemplo).\\n- Arreglar sourceCompatibility en build.gradle si corresponde (preferible notación “17” pero consistente con el estándar).\\n- Separar responsabilidades en cada paquete y clase siguiendo estrictamente los lineamientos entregados.',\n",
              " 'feedback_design': {'suggestions': 'ACCEPTED'},\n",
              " 'total_iterations': 1}"
            ]
          },
          "metadata": {},
          "execution_count": 20
        }
      ]
    }
  ]
}